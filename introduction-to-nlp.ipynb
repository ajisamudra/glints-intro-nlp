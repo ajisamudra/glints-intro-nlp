{
 "cells": [
  {
   "cell_type": "markdown",
   "id": "federal-leader",
   "metadata": {},
   "source": [
    "# Introduction to NLP using Python\n",
    "\n",
    "The notebook has **two sections**.\n",
    "\n",
    "### Section 1\n",
    "The first section focuses on basic preprocessing in NLP such as tokenization, stopwords, stemming, and lemmatization. \n",
    "\n",
    "**Objective**: This section aims to get participants 'feel' what's the first step of processing text data for modeling. Participants are encouraged to edit and re-run the code to see the different results by themselves.\n",
    "\n",
    "### Section 2\n",
    "The second section shows us how to build machine learning model for one NLP task which is **text classification**.\n",
    "\n",
    "**Objective**: This section aims to show participants typical workflow in approaching text classification problem.\n",
    "\n",
    "**Problem**: Classifying 20 different news group\n",
    "\n",
    "**Dataset**: [20 Newsgroup](http://qwone.com/~jason/20Newsgroups/). We will use sklearn.dataset to load this dataset"
   ]
  },
  {
   "cell_type": "markdown",
   "id": "registered-intake",
   "metadata": {},
   "source": [
    "## Section 1"
   ]
  },
  {
   "cell_type": "code",
   "execution_count": 2,
   "id": "toxic-differential",
   "metadata": {},
   "outputs": [
    {
     "name": "stdout",
     "output_type": "stream",
     "text": [
      "showing info https://raw.githubusercontent.com/nltk/nltk_data/gh-pages/index.xml\n"
     ]
    },
    {
     "data": {
      "text/plain": [
       "True"
      ]
     },
     "execution_count": 2,
     "metadata": {},
     "output_type": "execute_result"
    }
   ],
   "source": [
    "# First we need to download NLTK data\n",
    "import nltk\n",
    "nltk.download()"
   ]
  },
  {
   "cell_type": "markdown",
   "id": "lucky-satin",
   "metadata": {},
   "source": [
    "**Tokenization**\n",
    "\n",
    "There are two level of tokenization i.e. sentence tokenization and word tokenization. Sentence tokenization is used to split text (>1 sentence) into sentence tokens. While work tokenization is used to split sentence (>1 word) into word tokens."
   ]
  },
  {
   "cell_type": "code",
   "execution_count": 4,
   "id": "exterior-stuart",
   "metadata": {},
   "outputs": [
    {
     "name": "stdout",
     "output_type": "stream",
     "text": [
      "[' tokenization is the process of converting a sequence of characters into a sequence of tokens.', 'A program that performs lexical analysis may be termed a lexer, tokenizer.']\n"
     ]
    }
   ],
   "source": [
    "# Sentence tokenization\n",
    "from nltk.tokenize import sent_tokenize\n",
    "\n",
    "text = \"\"\" tokenization is the process of converting a sequence of characters into a sequence of tokens. \n",
    "A program that performs lexical analysis may be termed a lexer, tokenizer.\n",
    "\"\"\"\n",
    "\n",
    "tokenized_sentence = sent_tokenize(text)\n",
    "print(tokenized_sentence)"
   ]
  },
  {
   "cell_type": "code",
   "execution_count": 5,
   "id": "rolled-advantage",
   "metadata": {},
   "outputs": [
    {
     "name": "stdout",
     "output_type": "stream",
     "text": [
      "['tokenization', 'is', 'the', 'process', 'of', 'converting', 'a', 'sequence', 'of', 'characters', 'into', 'a', 'sequence', 'of', 'tokens', '.', 'A', 'program', 'that', 'performs', 'lexical', 'analysis', 'may', 'be', 'termed', 'a', 'lexer', ',', 'tokenizer', '.']\n"
     ]
    }
   ],
   "source": [
    "# Word tokenization\n",
    "from nltk.tokenize import word_tokenize\n",
    "\n",
    "text = \"\"\" tokenization is the process of converting a sequence of characters into a sequence of tokens. \n",
    "A program that performs lexical analysis may be termed a lexer, tokenizer.\n",
    "\"\"\"\n",
    "\n",
    "tokenized_words = word_tokenize(text)\n",
    "print(tokenized_words)"
   ]
  },
  {
   "cell_type": "code",
   "execution_count": 6,
   "id": "piano-hazard",
   "metadata": {},
   "outputs": [
    {
     "name": "stdout",
     "output_type": "stream",
     "text": [
      "<FreqDist with 24 samples and 30 outcomes>\n"
     ]
    },
    {
     "data": {
      "text/plain": [
       "FreqDist({'of': 3, 'a': 3, 'sequence': 2, '.': 2, 'tokenization': 1, 'is': 1, 'the': 1, 'process': 1, 'converting': 1, 'characters': 1, ...})"
      ]
     },
     "execution_count": 6,
     "metadata": {},
     "output_type": "execute_result"
    }
   ],
   "source": [
    "# Word frequency\n",
    "# This is one of the way to understand better the text.\n",
    "\n",
    "from nltk.probability import FreqDist\n",
    "fdist = FreqDist(tokenized_words)\n",
    "print(fdist)\n",
    "fdist"
   ]
  },
  {
   "cell_type": "code",
   "execution_count": 7,
   "id": "coupled-moral",
   "metadata": {},
   "outputs": [
    {
     "data": {
      "image/png": "[encoded data removed]",
      "text/plain": [
       "<Figure size 432x288 with 1 Axes>"
      ]
     },
     "metadata": {
      "needs_background": "light"
     },
     "output_type": "display_data"
    }
   ],
   "source": [
    "# Plot the distribtion using bar chart\n",
    "# Select top 10 frequent words, you may change it\n",
    "import matplotlib.pyplot as plt\n",
    "fdist.plot(10, cumulative=False)\n",
    "plt.show()"
   ]
  },
  {
   "cell_type": "markdown",
   "id": "corporate-doubt",
   "metadata": {},
   "source": [
    "**Stopwords**\n",
    "\n",
    "Implementation of stopwords may vary for several libraries such as NLTK and Spacy. The stopwords also different for each language. In this section we will only focus on English stopwords in NLTK."
   ]
  },
  {
   "cell_type": "code",
   "execution_count": 8,
   "id": "close-mountain",
   "metadata": {},
   "outputs": [
    {
     "name": "stdout",
     "output_type": "stream",
     "text": [
      "{'do', 'weren', 'as', 'of', 's', 'hers', 'over', 'such', 'yourself', 'during', 'when', 'are', \"won't\", \"doesn't\", \"you'll\", 'than', 'herself', 'whom', 'have', 'its', \"shan't\", 'just', \"wouldn't\", 'by', 'on', 'they', 'were', 'more', 'down', 'our', 'who', 'at', 'with', 'nor', 'that', \"should've\", 'then', 'wasn', 'mustn', 'about', 'an', 'i', 'd', 'if', 'being', 'she', 'so', 'through', 'between', 'wouldn', 'y', 'themselves', 'is', 'how', 'ma', \"weren't\", 'has', 'did', 'below', 'into', 'not', 'his', 'me', 'the', 'same', 'm', 'for', 'won', 're', 'their', 'does', 'haven', 'both', \"mustn't\", 'no', \"needn't\", 'couldn', 'himself', 'was', 'in', 'ours', 'only', 'yours', 'all', 'until', 'above', 'this', 'up', 'a', 'aren', 'myself', 'should', 'doesn', \"hasn't\", 'after', 'those', 'from', 'them', 'because', 'can', \"couldn't\", 'now', 'other', 'o', 'where', 'll', 'shan', 'hasn', 'any', \"isn't\", 'it', \"that'll\", 'here', 'been', 'your', 'him', \"haven't\", \"don't\", 'but', \"mightn't\", 'while', \"shouldn't\", 'hadn', 'again', 'having', 'off', 'shouldn', \"hadn't\", \"you've\", \"wasn't\", 'or', 'be', 'before', 'what', 'will', 'some', 'we', \"she's\", 'further', 'there', 'had', 'under', 'once', 'own', 'don', 'most', 'ourselves', 'against', 'needn', \"you're\", 'few', 'her', 'you', 'which', 'to', 've', 'too', 't', 'these', 'ain', \"it's\", 'mightn', 'isn', 'didn', 'out', 'very', 'and', \"didn't\", 'he', \"you'd\", \"aren't\", 'itself', 'doing', 'theirs', 'why', 'each', 'my', 'am', 'yourselves'}\n"
     ]
    }
   ],
   "source": [
    "from nltk.corpus import stopwords\n",
    "stop_words = set(stopwords.words('english'))\n",
    "print(stop_words)"
   ]
  },
  {
   "cell_type": "code",
   "execution_count": 9,
   "id": "cellular-millennium",
   "metadata": {},
   "outputs": [
    {
     "name": "stdout",
     "output_type": "stream",
     "text": [
      "Tokenized Words: ['tokenization', 'is', 'the', 'process', 'of', 'converting', 'a', 'sequence', 'of', 'characters', 'into', 'a', 'sequence', 'of', 'tokens', '.', 'A', 'program', 'that', 'performs', 'lexical', 'analysis', 'may', 'be', 'termed', 'a', 'lexer', ',', 'tokenizer', '.']\n",
      "\n",
      "\n",
      "Filterd Words: ['tokenization', 'process', 'converting', 'sequence', 'characters', 'sequence', 'tokens', '.', 'A', 'program', 'performs', 'lexical', 'analysis', 'may', 'termed', 'lexer', ',', 'tokenizer', '.']\n"
     ]
    }
   ],
   "source": [
    "# Removing stopwords from text\n",
    "filtered_words = []\n",
    "for w in tokenized_words:\n",
    "    if w not in stop_words:\n",
    "        filtered_words.append(w)\n",
    "print(\"Tokenized Words:\",tokenized_words)\n",
    "print(\"\\n\")\n",
    "print(\"Filterd Words:\",filtered_words)"
   ]
  },
  {
   "cell_type": "markdown",
   "id": "numerous-gross",
   "metadata": {},
   "source": [
    "**Stemming and Lemmatization**\n",
    "\n",
    "Stemming & Lemmatization are one of the way for normalizing the words into standard words. Stemming focus on removing *sufix* e.g. -es, -s, -ing, -ed. Lemmatization focus on converting irregular words to its base words e.g. bought -> buy."
   ]
  },
  {
   "cell_type": "code",
   "execution_count": 10,
   "id": "silent-electric",
   "metadata": {},
   "outputs": [
    {
     "name": "stdout",
     "output_type": "stream",
     "text": [
      "Filtered Words: ['tokenization', 'process', 'converting', 'sequence', 'characters', 'sequence', 'tokens', '.', 'A', 'program', 'performs', 'lexical', 'analysis', 'may', 'termed', 'lexer', ',', 'tokenizer', '.']\n",
      "\n",
      "\n",
      "Stemmed Words ['token', 'process', 'convert', 'sequenc', 'charact', 'sequenc', 'token', '.', 'A', 'program', 'perform', 'lexic', 'analysi', 'may', 'term', 'lexer', ',', 'token', '.']\n"
     ]
    }
   ],
   "source": [
    "# Stemming\n",
    "from nltk.stem import PorterStemmer\n",
    "from nltk.tokenize import word_tokenize\n",
    "\n",
    "stemmer = PorterStemmer()\n",
    "stemmed_words = []\n",
    "for w in filtered_words:\n",
    "    stemmed_words.append(stemmer.stem(w))\n",
    "    \n",
    "print(\"Filtered Words:\",filtered_words)\n",
    "print(\"\\n\")\n",
    "print(\"Stemmed Words\",stemmed_words)"
   ]
  },
  {
   "cell_type": "code",
   "execution_count": 18,
   "id": "creative-spelling",
   "metadata": {},
   "outputs": [
    {
     "name": "stdout",
     "output_type": "stream",
     "text": [
      "Word: running\n",
      "Lemmatized Word: run\n",
      "Stemmed Word: run\n",
      "\n",
      "\n",
      "Word: bought\n",
      "Lemmatized Word: buy\n",
      "Stemmed Word: bought\n",
      "\n",
      "\n",
      "Word: buying\n",
      "Lemmatized Word: buy\n",
      "Stemmed Word: buy\n",
      "\n",
      "\n",
      "Word: flying\n",
      "Lemmatized Word: fly\n",
      "Stemmed Word: fli\n",
      "\n",
      "\n",
      "Word: discounted\n",
      "Lemmatized Word: discount\n",
      "Stemmed Word: discount\n",
      "\n",
      "\n"
     ]
    }
   ],
   "source": [
    "# Lemmatization\n",
    "from nltk.stem.wordnet import WordNetLemmatizer\n",
    "from nltk.stem import PorterStemmer\n",
    "\n",
    "lemmatizer = WordNetLemmatizer()\n",
    "stemmer = PorterStemmer()\n",
    "\n",
    "words = ['running', 'bought', 'buying', 'flying', 'discounted']\n",
    "for w in words:\n",
    "    print(\"Word:\",w)\n",
    "    print(\"Lemmatized Word:\", lemmatizer.lemmatize(w, 'v'))\n",
    "    print(\"Stemmed Word:\", stemmer.stem(w))\n",
    "    print(\"\\n\")"
   ]
  },
  {
   "cell_type": "markdown",
   "id": "operational-legend",
   "metadata": {},
   "source": [
    "**Part of Speech Tagging**\n",
    "\n",
    "The primary target of Part-of-Speech(POS) tagging is to identify the grammatical group of a given word. Whether it is a NOUN, PRONOUN, ADJECTIVE, VERB, ADVERBS, etc. based on the context."
   ]
  },
  {
   "cell_type": "code",
   "execution_count": 20,
   "id": "occupied-opening",
   "metadata": {},
   "outputs": [
    {
     "name": "stdout",
     "output_type": "stream",
     "text": [
      "Tokens: ['Albert', 'Einstein', 'was', 'born', 'in', 'Ulm', ',', 'Germany', 'in', '1879', '.']\n",
      "PoS Tag: [('Albert', 'NNP'), ('Einstein', 'NNP'), ('was', 'VBD'), ('born', 'VBN'), ('in', 'IN'), ('Ulm', 'NNP'), (',', ','), ('Germany', 'NNP'), ('in', 'IN'), ('1879', 'CD'), ('.', '.')]\n"
     ]
    }
   ],
   "source": [
    "import nltk\n",
    "from nltk.tokenize import word_tokenize\n",
    "\n",
    "sentence = \"Albert Einstein was born in Ulm, Germany in 1879.\"\n",
    "\n",
    "tokens = word_tokenize(sentence)\n",
    "print(\"Tokens:\", tokens)\n",
    "print(\"PoS Tag:\", nltk.pos_tag(tokens))"
   ]
  },
  {
   "cell_type": "markdown",
   "id": "early-satellite",
   "metadata": {},
   "source": [
    "## Section 2\n",
    "\n",
    "In this section we will use vectorizers from scikit-learn to perform text preprocessing and creating feature representation.\n",
    "\n",
    "`We call vectorization the general process of turning a collection of text documents into numerical feature vectors. This specific strategy (tokenization, counting and normalization) is called the Bag of Words or “Bag of n-grams” representation.` [reference](https://scikit-learn.org/stable/modules/feature_extraction.html)\n",
    "\n",
    "---\n",
    "**Problem**: Classifying 20 different news group\n",
    "\n",
    "**Type**: Multi-class classification problem (with imbalanced target distribution (?))\n",
    "\n",
    "**Dataset**: [20 Newsgroup](http://qwone.com/~jason/20Newsgroups/)\n",
    "\n",
    "**Performance Metrics**: Macro F1-score. (why macro F1-score? we want to capture the model performance in each of the classes)\n",
    "\n",
    "**Feature Representation**: Bag of Words with *count* and *TF-IDF* value\n",
    "\n",
    "**Learning Algorithm**: Logistic Regression"
   ]
  },
  {
   "cell_type": "code",
   "execution_count": 120,
   "id": "logical-bronze",
   "metadata": {},
   "outputs": [],
   "source": [
    "# Library\n",
    "from sklearn.datasets import fetch_20newsgroups\n",
    "import numpy as np\n",
    "\n",
    "## for EDA\n",
    "from nltk.probability import FreqDist\n",
    "from nltk.tokenize import word_tokenize\n",
    "\n",
    "## for Modeling\n",
    "from sklearn.feature_extraction.text import CountVectorizer, TfidfVectorizer\n",
    "from sklearn.metrics import f1_score, classification_report\n",
    "from sklearn.linear_model import LogisticRegression\n",
    "from sklearn.ensemble import RandomForestClassifier\n",
    "\n",
    "import warnings\n",
    "warnings.filterwarnings('ignore')"
   ]
  },
  {
   "cell_type": "markdown",
   "id": "balanced-reception",
   "metadata": {},
   "source": [
    "### Load Data + EDA"
   ]
  },
  {
   "cell_type": "code",
   "execution_count": 59,
   "id": "qualified-gazette",
   "metadata": {},
   "outputs": [
    {
     "data": {
      "text/plain": [
       "((11314,), (7532,))"
      ]
     },
     "execution_count": 59,
     "metadata": {},
     "output_type": "execute_result"
    }
   ],
   "source": [
    "# load dataset\n",
    "# The 20 Newsgroup datasets already have splitting for training and test dataset\n",
    "# The split between the train and test set is based upon a messages posted before and after a specific date.\n",
    "# It has 18846 newsgroups posts, 11314 for training set and the rest for test set.\n",
    "\n",
    "newsgroup_train = fetch_20newsgroups(subset='train')\n",
    "newsgroup_test = fetch_20newsgroups(subset='test')\n",
    "\n",
    "newsgroup_train.target.shape, newsgroup_test.target.shape"
   ]
  },
  {
   "cell_type": "code",
   "execution_count": 46,
   "id": "golden-teacher",
   "metadata": {},
   "outputs": [
    {
     "data": {
      "text/plain": [
       "['alt.atheism',\n",
       " 'comp.graphics',\n",
       " 'comp.os.ms-windows.misc',\n",
       " 'comp.sys.ibm.pc.hardware',\n",
       " 'comp.sys.mac.hardware',\n",
       " 'comp.windows.x',\n",
       " 'misc.forsale',\n",
       " 'rec.autos',\n",
       " 'rec.motorcycles',\n",
       " 'rec.sport.baseball',\n",
       " 'rec.sport.hockey',\n",
       " 'sci.crypt',\n",
       " 'sci.electronics',\n",
       " 'sci.med',\n",
       " 'sci.space',\n",
       " 'soc.religion.christian',\n",
       " 'talk.politics.guns',\n",
       " 'talk.politics.mideast',\n",
       " 'talk.politics.misc',\n",
       " 'talk.religion.misc']"
      ]
     },
     "execution_count": 46,
     "metadata": {},
     "output_type": "execute_result"
    }
   ],
   "source": [
    "# See type of class/newsgroups\n",
    "newsgroup_train.target_names"
   ]
  },
  {
   "cell_type": "code",
   "execution_count": 56,
   "id": "exposed-gardening",
   "metadata": {},
   "outputs": [
    {
     "name": "stdout",
     "output_type": "stream",
     "text": [
      "[['alt.atheism' '480']\n",
      " ['comp.graphics' '584']\n",
      " ['comp.os.ms-windows.misc' '591']\n",
      " ['comp.sys.ibm.pc.hardware' '590']\n",
      " ['comp.sys.mac.hardware' '578']\n",
      " ['comp.windows.x' '593']\n",
      " ['misc.forsale' '585']\n",
      " ['rec.autos' '594']\n",
      " ['rec.motorcycles' '598']\n",
      " ['rec.sport.baseball' '597']\n",
      " ['rec.sport.hockey' '600']\n",
      " ['sci.crypt' '595']\n",
      " ['sci.electronics' '591']\n",
      " ['sci.med' '594']\n",
      " ['sci.space' '593']\n",
      " ['soc.religion.christian' '599']\n",
      " ['talk.politics.guns' '546']\n",
      " ['talk.politics.mideast' '564']\n",
      " ['talk.politics.misc' '465']\n",
      " ['talk.religion.misc' '377']]\n"
     ]
    }
   ],
   "source": [
    "# See the distribution of newsgroups\n",
    "unique, counts = np.unique(newsgroup_train.target, return_counts=True)\n",
    "# print(np.asarray((unique, counts)).T)\n",
    "print(np.asarray((newsgroup_train.target_names, counts)).T)\n",
    "\n",
    "# The dataset has imbalance class distribution, class rec.sport tend to have higher samples than class talk.religion.misc"
   ]
  },
  {
   "cell_type": "code",
   "execution_count": 79,
   "id": "ordered-glossary",
   "metadata": {},
   "outputs": [
    {
     "name": "stdout",
     "output_type": "stream",
     "text": [
      "From: twillis@ec.ecn.purdue.edu (Thomas E Willis)\n",
      "Subject: PB questions...\n",
      "Organization: Purdue University Engineering Computer Network\n",
      "Distribution: usa\n",
      "Lines: 36\n",
      "\n",
      "well folks, my mac plus finally gave up the ghost this weekend after\n",
      "starting life as a 512k way back in 1985.  sooo, i'm in the market for a\n",
      "new machine a bit sooner than i intended to be...\n",
      "\n",
      "i'm looking into picking up a powerbook 160 or maybe 180 and have a bunch\n",
      "of questions that (hopefully) somebody can answer:\n",
      "\n",
      "* does anybody know any dirt on when the next round of powerbook\n",
      "introductions are expected?  i'd heard the 185c was supposed to make an\n",
      "appearence \"this summer\" but haven't heard anymore on it - and since i\n",
      "don't have access to macleak, i was wondering if anybody out there had\n",
      "more info...\n",
      "\n",
      "* has anybody heard rumors about price drops to the powerbook line like the\n",
      "ones the duo's just went through recently?\n",
      "\n",
      "* what's the impression of the display on the 180?  i could probably swing\n",
      "a 180 if i got the 80Mb disk rather than the 120, but i don't really have\n",
      "a feel for how much \"better\" the display is (yea, it looks great in the\n",
      "store, but is that all \"wow\" or is it really that good?).  could i solicit\n",
      "some opinions of people who use the 160 and 180 day-to-day on if its worth\n",
      "taking the disk size and money hit to get the active display?  (i realize\n",
      "this is a real subjective question, but i've only played around with the\n",
      "machines in a computer store breifly and figured the opinions of somebody\n",
      "who actually uses the machine daily might prove helpful).\n",
      "\n",
      "* how well does hellcats perform?  ;)\n",
      "\n",
      "thanks a bunch in advance for any info - if you could email, i'll post a\n",
      "summary (news reading time is at a premium with finals just around the\n",
      "corner... :( )\n",
      "--\n",
      "Tom Willis  \\  twillis@ecn.purdue.edu    \\    Purdue Electrical Engineering\n",
      "---------------------------------------------------------------------------\n",
      "\"Convictions are more dangerous enemies of truth than lies.\"  - F. W.\n",
      "Nietzsche\n",
      "\n",
      "comp.os.ms-windows.misc\n"
     ]
    }
   ],
   "source": [
    "# Sample 1 text in training data\n",
    "print(newsgroup_train.data[2])\n",
    "print(newsgroup_train.target_names[2])"
   ]
  },
  {
   "cell_type": "code",
   "execution_count": 82,
   "id": "reverse-universal",
   "metadata": {},
   "outputs": [
    {
     "data": {
      "image/png": "[encoded data removed]",
      "text/plain": [
       "<Figure size 432x288 with 1 Axes>"
      ]
     },
     "metadata": {
      "needs_background": "light"
     },
     "output_type": "display_data"
    }
   ],
   "source": [
    "# Most frequent words in training\n",
    "# See 1 sample sentence in training data\n",
    "training_tokenized_words = word_tokenize(newsgroup_train.data[2])\n",
    "fdist = FreqDist(training_tokenized_words)\n",
    "# Plot Top 10 frequent words in training\n",
    "import matplotlib.pyplot as plt\n",
    "fdist.plot(10, cumulative=False)\n",
    "plt.show()\n",
    "\n",
    "# Sampled text have a lot of symbols,\n",
    "# Lets try build the CountVectorizer and see what's word the most frequent"
   ]
  },
  {
   "cell_type": "markdown",
   "id": "stupid-audience",
   "metadata": {},
   "source": [
    "### Preprocessing"
   ]
  },
  {
   "cell_type": "code",
   "execution_count": 85,
   "id": "alone-bahamas",
   "metadata": {},
   "outputs": [
    {
     "data": {
      "text/plain": [
       "CountVectorizer(max_features=1500, stop_words='english')"
      ]
     },
     "execution_count": 85,
     "metadata": {},
     "output_type": "execute_result"
    }
   ],
   "source": [
    "# First we will use CountVectorizer for transforming text to numeric representations\n",
    "# The representations will be the occurrences of the word in training data\n",
    "\n",
    "vectorizer = CountVectorizer(lowercase=True, # convert the words to lowercase before tokenizing the text\n",
    "                             stop_words='english', # stopwords, could be a list of words\n",
    "                             ngram_range=(1,1), # n_gram range (n_min, n_max)\n",
    "                             analyzer='word', #{‘word’, ‘char’} Whether the feature should be made of word n-gram or character n-grams\n",
    "                             max_features=1500, # max number of features representations, sort by occurrence\n",
    "                            )\n",
    "\n",
    "vectorizer.fit(newsgroup_train.data)"
   ]
  },
  {
   "cell_type": "code",
   "execution_count": 103,
   "id": "premier-extent",
   "metadata": {},
   "outputs": [
    {
     "name": "stdout",
     "output_type": "stream",
     "text": [
      "[('young', 1499), ('york', 1498), ('yes', 1497), ('years', 1496), ('year', 1495), ('yeah', 1494)]\n",
      "[('04', 5), ('03', 4), ('02', 3), ('01', 2), ('000', 1), ('00', 0)]\n"
     ]
    }
   ],
   "source": [
    "# Get the vocabulary of the embedding\n",
    "\n",
    "# Top 6 words\n",
    "print(sorted(vectorizer.vocabulary_.items(), reverse=True)[:6])\n",
    "\n",
    "# Bottom 6 words\n",
    "print(sorted(vectorizer.vocabulary_.items(), reverse=True)[-6:])\n",
    "# the non frequent words consist of numbers"
   ]
  },
  {
   "cell_type": "code",
   "execution_count": 104,
   "id": "engaged-exploration",
   "metadata": {},
   "outputs": [
    {
     "data": {
      "text/plain": [
       "((11314, 1500), (7532, 1500))"
      ]
     },
     "execution_count": 104,
     "metadata": {},
     "output_type": "execute_result"
    }
   ],
   "source": [
    "# Transform training and text data to vector/embedding\n",
    "train_vct = vectorizer.transform(newsgroup_train.data)\n",
    "test_vct = vectorizer.transform(newsgroup_test.data)\n",
    "\n",
    "# Now each text sample is represented by 1500 features\n",
    "train_vct.shape, test_vct.shape"
   ]
  },
  {
   "cell_type": "code",
   "execution_count": 108,
   "id": "polar-consultancy",
   "metadata": {},
   "outputs": [
    {
     "data": {
      "text/plain": [
       "<1x1500 sparse matrix of type '<class 'numpy.int64'>'\n",
       "\twith 37 stored elements in Compressed Sparse Row format>"
      ]
     },
     "execution_count": 108,
     "metadata": {},
     "output_type": "execute_result"
    }
   ],
   "source": [
    "# The text sample is stored in sparse matrix\n",
    "# Because it has a lot of zero values\n",
    "train_vct[0]"
   ]
  },
  {
   "cell_type": "markdown",
   "id": "north-stress",
   "metadata": {},
   "source": [
    "### Modeling"
   ]
  },
  {
   "cell_type": "code",
   "execution_count": 121,
   "id": "affected-cornwall",
   "metadata": {},
   "outputs": [
    {
     "data": {
      "text/plain": [
       "LogisticRegression(solver='saga')"
      ]
     },
     "execution_count": 121,
     "metadata": {},
     "output_type": "execute_result"
    }
   ],
   "source": [
    "# define model\n",
    "model = LogisticRegression(solver='saga')\n",
    "\n",
    "# fit the model with target and vector training\n",
    "model.fit(train_vct, newsgroup_train.target)"
   ]
  },
  {
   "cell_type": "code",
   "execution_count": 111,
   "id": "clear-digest",
   "metadata": {},
   "outputs": [],
   "source": [
    "# Predict the training label + test label\n",
    "y_pred_train = model.predict(train_vct)\n",
    "y_pred = model.predict(test_vct)"
   ]
  },
  {
   "cell_type": "markdown",
   "id": "afraid-initial",
   "metadata": {},
   "source": [
    "### Evaluation"
   ]
  },
  {
   "cell_type": "code",
   "execution_count": 117,
   "id": "little-favor",
   "metadata": {},
   "outputs": [
    {
     "name": "stdout",
     "output_type": "stream",
     "text": [
      "Macro F1-score in training: 0.4554769928465531\n",
      "Macro F1-score in test: 0.38949996645077084\n"
     ]
    }
   ],
   "source": [
    "# Evaluate the performance in training and test set\n",
    "train_metrics = f1_score(y_pred_train, newsgroup_train.target, average='macro')\n",
    "test_metrics = f1_score(y_pred, newsgroup_test.target, average='macro')\n",
    "\n",
    "print(\"Macro F1-score in training:\", train_metrics)\n",
    "print(\"Macro F1-score in test:\", test_metrics)"
   ]
  },
  {
   "cell_type": "code",
   "execution_count": 122,
   "id": "sitting-proportion",
   "metadata": {},
   "outputs": [
    {
     "name": "stdout",
     "output_type": "stream",
     "text": [
      "                          precision    recall  f1-score   support\n",
      "\n",
      "             alt.atheism       0.15      0.75      0.25        64\n",
      "           comp.graphics       0.21      0.79      0.34       105\n",
      " comp.os.ms-windows.misc       0.43      0.75      0.55       229\n",
      "comp.sys.ibm.pc.hardware       0.30      0.48      0.37       240\n",
      "   comp.sys.mac.hardware       0.14      0.84      0.24        63\n",
      "          comp.windows.x       0.73      0.36      0.48       806\n",
      "            misc.forsale       0.21      0.92      0.34        89\n",
      "               rec.autos       0.34      0.80      0.48       169\n",
      "         rec.motorcycles       0.26      0.94      0.41       112\n",
      "      rec.sport.baseball       0.41      0.20      0.27       806\n",
      "        rec.sport.hockey       0.76      0.49      0.59       621\n",
      "               sci.crypt       0.90      0.26      0.40      1386\n",
      "         sci.electronics       0.00      1.00      0.01         1\n",
      "                 sci.med       0.31      0.44      0.36       275\n",
      "               sci.space       0.66      0.71      0.68       371\n",
      "  soc.religion.christian       0.79      0.55      0.64       576\n",
      "      talk.politics.guns       0.54      0.43      0.48       458\n",
      "   talk.politics.mideast       0.86      0.33      0.48       971\n",
      "      talk.politics.misc       0.34      0.55      0.42       190\n",
      "      talk.religion.misc       0.00      0.00      0.00         0\n",
      "\n",
      "                accuracy                           0.43      7532\n",
      "               macro avg       0.42      0.58      0.39      7532\n",
      "            weighted avg       0.65      0.43      0.46      7532\n",
      "\n"
     ]
    }
   ],
   "source": [
    "# See more comprehensive classification report using useful sklearn function\n",
    "print(classification_report(y_pred, newsgroup_test.target, target_names=newsgroup_test.target_names))\n",
    "\n",
    "# In the test set we observe that several classes e.g. talk.religion.misc and sci.electronics have few samples even 0.\n",
    "# The macro f1-score must be dragged down by the classes"
   ]
  },
  {
   "cell_type": "code",
   "execution_count": 123,
   "id": "congressional-samba",
   "metadata": {},
   "outputs": [
    {
     "name": "stdout",
     "output_type": "stream",
     "text": [
      "Macro F1-score in training: 0.45597672519091625\n",
      "Macro F1-score in test: 0.3879690082963584\n",
      "                          precision    recall  f1-score   support\n",
      "\n",
      "             alt.atheism       0.15      0.75      0.25        63\n",
      "           comp.graphics       0.20      0.80      0.32        98\n",
      " comp.os.ms-windows.misc       0.44      0.73      0.55       236\n",
      "comp.sys.ibm.pc.hardware       0.29      0.48      0.36       238\n",
      "   comp.sys.mac.hardware       0.14      0.83      0.24        65\n",
      "          comp.windows.x       0.73      0.36      0.48       790\n",
      "            misc.forsale       0.22      0.92      0.35        92\n",
      "               rec.autos       0.34      0.80      0.48       167\n",
      "         rec.motorcycles       0.26      0.94      0.41       111\n",
      "      rec.sport.baseball       0.41      0.20      0.27       812\n",
      "        rec.sport.hockey       0.76      0.49      0.59       620\n",
      "               sci.crypt       0.90      0.26      0.40      1386\n",
      "         sci.electronics       0.00      1.00      0.01         1\n",
      "                 sci.med       0.30      0.44      0.36       271\n",
      "               sci.space       0.67      0.70      0.68       376\n",
      "  soc.religion.christian       0.79      0.54      0.64       581\n",
      "      talk.politics.guns       0.54      0.42      0.47       462\n",
      "   talk.politics.mideast       0.85      0.33      0.48       971\n",
      "      talk.politics.misc       0.34      0.54      0.41       192\n",
      "      talk.religion.misc       0.00      0.00      0.00         0\n",
      "\n",
      "                accuracy                           0.43      7532\n",
      "               macro avg       0.42      0.58      0.39      7532\n",
      "            weighted avg       0.65      0.43      0.46      7532\n",
      "\n"
     ]
    }
   ],
   "source": [
    "# How about change the representation using TF-IDF Vectorizer\n",
    "\n",
    "# preprocessing text\n",
    "vectorizer = TfidfVectorizer(lowercase=True, # convert the words to lowercase before tokenizing the text\n",
    "                             stop_words='english', # stopwords, could be a list of words\n",
    "                             ngram_range=(1,1), # n_gram range (n_min, n_max)\n",
    "                             analyzer='word', #{‘word’, ‘char’} Whether the feature should be made of word n-gram or character n-grams\n",
    "                             max_features=1500, # max number of features representations, sort by occurrence\n",
    "                            )\n",
    "vectorizer.fit(newsgroup_train.data)\n",
    "\n",
    "# define model\n",
    "model = LogisticRegression(solver='saga')\n",
    "\n",
    "# fit the model with target and vector training\n",
    "model.fit(train_vct, newsgroup_train.target)\n",
    "\n",
    "# Predict the training label + test label\n",
    "y_pred_train = model.predict(train_vct)\n",
    "y_pred = model.predict(test_vct)\n",
    "\n",
    "# Evaluate the performance in training and test set\n",
    "train_metrics = f1_score(y_pred_train, newsgroup_train.target, average='macro')\n",
    "test_metrics = f1_score(y_pred, newsgroup_test.target, average='macro')\n",
    "\n",
    "print(\"Macro F1-score in training:\", train_metrics)\n",
    "print(\"Macro F1-score in test:\", test_metrics)\n",
    "\n",
    "# See more comprehensive classification report using useful sklearn function\n",
    "print(classification_report(y_pred, newsgroup_test.target, target_names=newsgroup_test.target_names))\n",
    "\n",
    "# It seems that TF-IDF representations is not improving the model"
   ]
  },
  {
   "cell_type": "markdown",
   "id": "diverse-province",
   "metadata": {},
   "source": [
    "### Let's try to improve the model by doing Error Analysis + Cleaning"
   ]
  },
  {
   "cell_type": "code",
   "execution_count": null,
   "id": "important-german",
   "metadata": {},
   "outputs": [],
   "source": []
  },
  {
   "cell_type": "code",
   "execution_count": null,
   "id": "wired-creature",
   "metadata": {},
   "outputs": [],
   "source": []
  },
  {
   "cell_type": "code",
   "execution_count": null,
   "id": "authorized-overall",
   "metadata": {},
   "outputs": [],
   "source": []
  },
  {
   "cell_type": "code",
   "execution_count": null,
   "id": "facial-playlist",
   "metadata": {},
   "outputs": [],
   "source": []
  },
  {
   "cell_type": "code",
   "execution_count": null,
   "id": "incoming-powell",
   "metadata": {},
   "outputs": [],
   "source": []
  }
 ],
 "metadata": {
  "kernelspec": {
   "display_name": "Python 3",
   "language": "python",
   "name": "python3"
  },
  "language_info": {
   "codemirror_mode": {
    "name": "ipython",
    "version": 3
   },
   "file_extension": ".py",
   "mimetype": "text/x-python",
   "name": "python",
   "nbconvert_exporter": "python",
   "pygments_lexer": "ipython3",
   "version": "3.7.9"
  }
 },
 "nbformat": 4,
 "nbformat_minor": 5
}
